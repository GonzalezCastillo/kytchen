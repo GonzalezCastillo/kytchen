{
 "cells": [
  {
   "cell_type": "markdown",
   "id": "e12d1e68-2b6e-4537-a1cb-434f4578aaaa",
   "metadata": {},
   "source": [
    "# Kytchen tutorial"
   ]
  },
  {
   "cell_type": "markdown",
   "id": "83a03ad3-3356-41b1-bc62-07555c9b4369",
   "metadata": {},
   "source": [
    "## 1. Ingredients"
   ]
  },
  {
   "cell_type": "markdown",
   "id": "07a22233-02f8-480f-8130-0656c6291b52",
   "metadata": {},
   "source": [
    "There is no cooking without ingredients, so let's see how we can handle them with Kytchen. First, we need to import the package."
   ]
  },
  {
   "cell_type": "code",
   "execution_count": 1,
   "id": "d6e0ec5b-c5db-4a98-9cb1-03b1468975bc",
   "metadata": {},
   "outputs": [],
   "source": [
    "import kytchen as ky"
   ]
  },
  {
   "cell_type": "markdown",
   "id": "f12674de-dd03-4f0f-9713-16512ab52cb4",
   "metadata": {},
   "source": [
    "Ingredients are stored as objects of the `Ingredient` class. These objects are initialised with three arguments:\n",
    "\n",
    "- The name of the ingredient.\n",
    "- The calories of the ingredient per unit of measurement.\n",
    "- The unit in which the ingredient is measured.\n",
    "\n",
    "For example, let's say that we want to create an ingredient object for mineral water. We could do it as follows:\n"
   ]
  },
  {
   "cell_type": "code",
   "execution_count": 2,
   "id": "564dca06-d267-4815-b700-b271de5cf0d8",
   "metadata": {},
   "outputs": [],
   "source": [
    "water = ky.Ingredient(\"Mineral water\", 0, \"L\")"
   ]
  },
  {
   "cell_type": "markdown",
   "id": "e7b52f36-91c6-443d-ba54-dbf08d40aef6",
   "metadata": {},
   "source": [
    "Here we have specified the name (\"Mineral water\"), the fact that it has zero calories per litre, and that we are going to measure it in litres (symbol \"L\"). Ingredient objects can be easily printed:"
   ]
  },
  {
   "cell_type": "code",
   "execution_count": 3,
   "id": "2c958d8a-30bc-47a2-93eb-1705614eaf3a",
   "metadata": {},
   "outputs": [
    {
     "name": "stdout",
     "output_type": "stream",
     "text": [
      "Mineral water (0 kcal/L)\n"
     ]
    }
   ],
   "source": [
    "print(water)"
   ]
  },
  {
   "cell_type": "markdown",
   "id": "10823f75-2136-47a7-873e-c2de62163c78",
   "metadata": {},
   "source": [
    "That is how ingredient objects can be created, but, if you want to use these objects in recipes, you will have to take a different route.\n",
    "\n",
    "In order to store and use your ingredients in Kytchen, you must create a CSV file named `ingredients.csv`. Each row will represent an ingredient object and, within each row, the cells (from left to right) should represent the following:\n",
    "\n",
    "1. A unique ID for the ingredient.\n",
    "2. The full name of the ingredient.\n",
    "3. The caloric content of the ingredient per unit of measurement.\n",
    "4. The unit in which the ingredient is going to be measured.\n",
    "\n",
    "If we wanted to store our water ingredient, our CSV file should include a row like this one:"
   ]
  },
  {
   "cell_type": "raw",
   "id": "89f146cf-89d1-41a1-8bc7-9d1c261b0513",
   "metadata": {},
   "source": [
    "water;Mineral water;0;L"
   ]
  },
  {
   "cell_type": "markdown",
   "id": "b9091738-afee-4017-943f-734f2c880806",
   "metadata": {},
   "source": [
    "Once we have a CSV file of this form, we can load all the ingredients in it using the `load_ingredients` function. This function is called automatically when Kytchen is started. In fact, you may have noticed that this tutorial already comes with a sample `ingredients.csv` file. Unless you have deleted it, the ingredients in it should have been loaded already.\n",
    "\n",
    "Loaded ingredients can be accessed with the `find_component` function, which takes a single argument corresponding to the unique ID of the ingredient."
   ]
  },
  {
   "cell_type": "code",
   "execution_count": 4,
   "id": "acdaba57-dab8-4aa9-9619-bc3fa7e1dfbe",
   "metadata": {},
   "outputs": [
    {
     "name": "stdout",
     "output_type": "stream",
     "text": [
      "Slice of bread (70.0 kcal/u)\n",
      "Cheese (5.0 kcal/g)\n"
     ]
    }
   ],
   "source": [
    "print(ky.find_component(\"slice-bread\"))\n",
    "print(ky.find_component(\"cheese\"))"
   ]
  },
  {
   "cell_type": "markdown",
   "id": "f04625a1-4a3d-4c0b-97a3-4265d73cd67f",
   "metadata": {},
   "source": [
    "## 2. Recipes"
   ]
  },
  {
   "cell_type": "markdown",
   "id": "d5506b4b-a62f-4b45-a224-909a292c4a91",
   "metadata": {},
   "source": [
    "We have ingredients. Now it's time for us to create recipes. In Kytchen, recipes are stored as objects of the `Recipe` class — not very original, huh? Objects of this class are initialised with the following arguments:\n",
    "\n",
    "* **A dictionary of components.** The keys are the IDs of the ingredients used in the recipe and the values are the amounts that are needed (measured in the ingredients' respective units).\n",
    "* **A list of steps.** Each step can be encoded with a string `step`. If you want to specify that the step takes `mm` minutes, the step can be encoded as the list `[step, mm]`. If you want to specify that it takes `mm` minutes and `ss` seconds, you can also encode it as `[step, [mm, ss]]`. The list of steps is optional and defaults to an empty array.\n",
    "* A **name** for the recipe (optional, defaults to \"Unnamed recipe\").\n",
    "* A string specifying the **date of creation** of the recipe (optional, defaults to \"\").\n",
    "\n",
    "Let's see this in action creating a simple recipe."
   ]
  },
  {
   "cell_type": "code",
   "execution_count": 5,
   "id": "e245fac8-6b62-4e3f-8b61-312b537a24c0",
   "metadata": {},
   "outputs": [
    {
     "name": "stdout",
     "output_type": "stream",
     "text": [
      "Cheese sandwich (1492-10-12)\n",
      "Servings: 1\n",
      "Calories: 190 kcal\n",
      "\n",
      "INGREDIENTS\n",
      "2 u  Slice of bread\n",
      "10 g  Cheese\n",
      "\n",
      "METHOD\n",
      "- Go to the kitchen.\n",
      "- Prepare the sandwhich. +2:0\n",
      "- Celebrate. +0:30\n",
      "\n"
     ]
    }
   ],
   "source": [
    "components = {\"slice-bread\": 2, \"cheese\": 10}\n",
    "steps = [\n",
    "    \"Go to the kitchen.\", # Simple step.\n",
    "    [\"Prepare the sandwhich.\", 2], # Step that takes two minutes.\n",
    "    [\"Celebrate.\", [0, 30]]\n",
    "    # ^^ Step that takes 30 seconds.\n",
    "]\n",
    "\n",
    "sandwich = ky.Recipe(components, steps, name = \"Cheese sandwich\", date = \"1492-10-12\")\n",
    "print(sandwich)"
   ]
  },
  {
   "cell_type": "markdown",
   "id": "d6f94d97-89fe-406a-8afa-b5b30dd9507f",
   "metadata": {},
   "source": [
    "And that's how you create a recipe! Notice that Kytchen has automatically computed for us the calories of this meal.\n",
    "\n",
    "If you want to scale a recipe to a certain number of servings (this number can be a float), this is all you have to do:"
   ]
  },
  {
   "cell_type": "code",
   "execution_count": 6,
   "id": "2b462fe0-d77d-4e42-a445-e0dcb02f0ab0",
   "metadata": {},
   "outputs": [
    {
     "name": "stdout",
     "output_type": "stream",
     "text": [
      "Cheese sandwich (1492-10-12)\n",
      "Servings: 2.3\n",
      "Calories: 437 kcal\n",
      "\n",
      "INGREDIENTS\n",
      "4.6 u  Slice of bread\n",
      "23.0 g  Cheese\n",
      "\n",
      "METHOD\n",
      "- Go to the kitchen.\n",
      "- Prepare the sandwhich. +2:0\n",
      "- Celebrate. +0:30\n",
      "\n"
     ]
    }
   ],
   "source": [
    "sandwich.print(servings = 2.3)"
   ]
  },
  {
   "cell_type": "markdown",
   "id": "8241767a-969d-403e-951b-e805564ae461",
   "metadata": {},
   "source": [
    "And, thus, your ingredients are rescaled and the calories are recomputed accordingly.\n",
    "\n",
    "We have seen that, when we print a recipe, the duration of its steps is displayed when it's defined. However, look at what happens if you create a recipe specifying the duration of all its steps."
   ]
  },
  {
   "cell_type": "code",
   "execution_count": 7,
   "id": "e8a7ba39-3ba0-4bc1-9c8c-1918411ab657",
   "metadata": {},
   "outputs": [
    {
     "name": "stdout",
     "output_type": "stream",
     "text": [
      "Cheese sandwich (1492-10-12)\n",
      "Servings: 1\n",
      "Calories: 190 kcal\n",
      "Preparation time: 3 min\n",
      "\n",
      "INGREDIENTS\n",
      "2 u  Slice of bread\n",
      "10 g  Cheese\n",
      "\n",
      "METHOD\n",
      "- Prepare the sandwhich. >2:0\n",
      "- Celebrate. >2:30\n",
      "\n"
     ]
    }
   ],
   "source": [
    "steps = [\n",
    "    [\"Prepare the sandwhich.\", 2],\n",
    "    [\"Celebrate.\", [0, 30]]\n",
    "]\n",
    "\n",
    "sandwich = ky.Recipe(components, steps, name = \"Cheese sandwich\", date = \"1492-10-12\")\n",
    "print(sandwich)"
   ]
  },
  {
   "cell_type": "markdown",
   "id": "527dbcb5-3273-456d-8948-869196f9e602",
   "metadata": {},
   "source": [
    "In this case, we also get the total preparation time for the recipe (rounded to the nearest minute). Moreover, next to each step, we can find the exact time by which the step should be completed, counting from the start of the preparation of the recipe. This can be very convenient for time-tracking."
   ]
  },
  {
   "cell_type": "markdown",
   "id": "e470f3e7-dbf3-4f09-a397-a2abdab331fc",
   "metadata": {},
   "source": [
    "### Saving and loading recipes"
   ]
  },
  {
   "cell_type": "markdown",
   "id": "7f677657-fb15-4f85-bd2a-bcb0939f7d44",
   "metadata": {},
   "source": [
    "Once you have created a recipe, you can save it to a JSON file using the `save` method and specifying a `path`. The recipe will be saved in `recipes/{path}.json`. The path must uniquely identify the recipe; in particular, it must be different from the ID of any ingredient. Once any recipe is saved in the `recipes` folder, it can always be accessed directly with `find_component` using its path. Let's see this in action."
   ]
  },
  {
   "cell_type": "code",
   "execution_count": 8,
   "id": "2c603b86-6ba0-4176-b88a-c379bae18eb6",
   "metadata": {},
   "outputs": [
    {
     "name": "stdout",
     "output_type": "stream",
     "text": [
      "True\n"
     ]
    }
   ],
   "source": [
    "sandwich.save(\"sandwich\")\n",
    "print(sandwich == ky.find_component(\"sandwich\"))"
   ]
  },
  {
   "cell_type": "markdown",
   "id": "cf9c093c-664d-4a59-a351-78ea8c9f5d5e",
   "metadata": {},
   "source": [
    "And that's it! Now our recipe will always be accessible. If you reset Python and reload the package, `ky.find_component(\"sandwich\")` will still give you the recipe.\n",
    "\n",
    "The structure of the JSON files that store recipes is very simple; you can have a look at `recipes/sandwich.json` and see for yourself. Of course, in order to define a recipe, you can just create a JSON file with that structure and add it to the `recipes` folder."
   ]
  },
  {
   "cell_type": "markdown",
   "id": "bdc9b4e4-5cbe-4a36-9890-2615e4820dc2",
   "metadata": {},
   "source": [
    "### Using recipes in other recipes"
   ]
  },
  {
   "cell_type": "markdown",
   "id": "dac2d672-2978-49e2-9b81-3f343433e46e",
   "metadata": {},
   "source": [
    "Kytchen allows you to use saved recipes as ingredients for other recipes. Their \"unit of measurement\" is, of course, the number of servings.\n",
    "\n",
    "Let's see an example."
   ]
  },
  {
   "cell_type": "code",
   "execution_count": 9,
   "id": "9dd51aaf-cc4d-4eb7-b9a6-824b1554cc9c",
   "metadata": {},
   "outputs": [
    {
     "name": "stdout",
     "output_type": "stream",
     "text": [
      "Two sandwiches on a plate\n",
      "Servings: 1\n",
      "Calories: 380 kcal\n",
      "\n",
      "INGREDIENTS\n",
      "2 serv  Cheese sandwich\n",
      "\n",
      "METHOD\n",
      "- Put the two sandwiches on a plate.\n",
      "- Enjoy.\n",
      "\n"
     ]
    }
   ],
   "source": [
    "components = {\"sandwich\": 2}\n",
    "method = [\"Put the two sandwiches on a plate.\", \"Enjoy.\"]\n",
    "\n",
    "two_sandwiches = ky.Recipe(components, method, name = \"Two sandwiches on a plate\")\n",
    "print(two_sandwiches)\n",
    "\n",
    "two_sandwiches.save(\"two-sandwiches-plate\") # Save it!"
   ]
  },
  {
   "cell_type": "markdown",
   "id": "54f3ac41-6859-4539-a4ad-d87d3550deb7",
   "metadata": {},
   "source": [
    "## 3. Meal plans"
   ]
  },
  {
   "cell_type": "markdown",
   "id": "df4fc24b-789a-47a4-8411-9ccd747064eb",
   "metadata": {},
   "source": [
    "Kytchen has a `Mealplan` class for storing meal plans. Objects of this class are initialised with two arguments:\n",
    "- A list with all the **meals that are going to be consumed**. Each item in this list must be a dictionary encoding the meals that will be consumed on a certain day: the keys must be the paths of the recipes and the values must be the corresponding numbers of servings (can be a float).\n",
    "- A list with any **extra meals that we want to prepare**. Each item in the list must be a dictionary encoding the extra meals that should be prepared on a given day (maybe in anticipation for the meals on the following days). These dictionaries must have the same format as above.\n",
    "\n",
    "As with recipes, there are also two optional arguments for the name and the creation date of meal plan objects.\n",
    "\n",
    "Let's see how this works through an example. Say that we want to create a three-day meal plan with the following meals:\n",
    "- Day 1: \"Cheese sandwich\" and \"two sandwiches on a plate\".\n",
    "- Day 2: Two servings of \"cheese sandwich\".\n",
    "- Day 3: \"Two sandwiches on a plate\".\n",
    "\n",
    "However, we want to be efficient, so we want to prepare all the sandwiches on the first day. Therefore, we want to prepare four extra sandwiches on Day 1 (recall that \"two sandwiches on a plate\" includes two sandwiches).\n",
    "\n",
    "This is how we can define this meal plan:"
   ]
  },
  {
   "cell_type": "code",
   "execution_count": 10,
   "id": "a77c4a56-3d8c-4918-bb39-c5223ab14158",
   "metadata": {},
   "outputs": [
    {
     "name": "stdout",
     "output_type": "stream",
     "text": [
      "My meal plan (Today!)\n",
      "\n",
      "Day 1\n",
      "CONSUME:\n",
      "- Cheese sandwich (servings: 1, 190 kcal)\n",
      "- Two sandwiches on a plate (servings: 1, 380 kcal)\n",
      "PREPARE:\n",
      "- Two sandwiches on a plate (servings: 1)\n",
      "- Cheese sandwich (servings: 7)\n",
      "\n",
      "Day 2\n",
      "CONSUME:\n",
      "- Cheese sandwich (servings: 2, 380 kcal)\n",
      "PREPARE:\n",
      "\n",
      "Day 3\n",
      "CONSUME:\n",
      "- Two sandwiches on a plate (servings: 1, 380 kcal)\n",
      "PREPARE:\n",
      "- Two sandwiches on a plate (servings: 1)\n",
      "\n",
      "Average daily energy: 444 kcal\n",
      "\n"
     ]
    }
   ],
   "source": [
    "consume = [\n",
    "    {\"sandwich\": 1, \"two-sandwiches-plate\": 1},\n",
    "    {\"sandwich\": 2},\n",
    "    {\"two-sandwiches-plate\": 1}\n",
    "]\n",
    "\n",
    "prepare = [\n",
    "    {\"sandwich\": 4},\n",
    "    {},\n",
    "    {}\n",
    "]\n",
    "\n",
    "mp = ky.MealPlan(consume, prepare, name = \"My meal plan\", date = \"Today!\")\n",
    "print(mp)"
   ]
  },
  {
   "cell_type": "markdown",
   "id": "0bd2ef6c-bc5e-4ecc-a1eb-2a30ae9178af",
   "metadata": {},
   "source": [
    "There you have it! Kytchen tells us what we are consuming each day, what we have to prepare each day and the average daily caloric intake. Notice that, if a recipe uses another recipe as an ingredient (just as \"two sandwiches on a plate\" uses \"sandwich\"), the whole recipe is expanded, and we are asked to prepare the big recipe and all its component recipes separatedly. For example:\n",
    "- In Day 1, we have to make seven sandwiches: four of these are for the next few days, one is for the sandwich on Day 1, and the last two are for the \"two sandwiches on a plate\" meal on Day 1, which is also displayed.\n",
    "- In Day 3, we have no sandwiches to make (we already prepared them all on Day 1), but we need to use the sandwiches that we already have in order to prepare the \"two sandwiches on a plate\" recipe.\n",
    "\n",
    "Now look at what would have happened if we had only made three extra sandwiches on the first day:"
   ]
  },
  {
   "cell_type": "code",
   "execution_count": 11,
   "id": "5a982577-e7a5-47ab-894b-95159c9ad0e2",
   "metadata": {},
   "outputs": [
    {
     "name": "stdout",
     "output_type": "stream",
     "text": [
      "Unnamed meal plan\n",
      "\n",
      "Day 1\n",
      "CONSUME:\n",
      "- Cheese sandwich (servings: 1, 190 kcal)\n",
      "- Two sandwiches on a plate (servings: 1, 380 kcal)\n",
      "PREPARE:\n",
      "- Two sandwiches on a plate (servings: 1)\n",
      "- Cheese sandwich (servings: 6)\n",
      "\n",
      "Day 2\n",
      "CONSUME:\n",
      "- Cheese sandwich (servings: 2, 380 kcal)\n",
      "PREPARE:\n",
      "\n",
      "Day 3\n",
      "CONSUME:\n",
      "- Two sandwiches on a plate (servings: 1, 380 kcal)\n",
      "PREPARE:\n",
      "- Two sandwiches on a plate (servings: 1)\n",
      "- Cheese sandwich (servings: 1)\n",
      "\n",
      "Average daily energy: 444 kcal\n",
      "\n"
     ]
    }
   ],
   "source": [
    "prepare = [{\"sandwich\": 3},{},{}]\n",
    "mp = ky.MealPlan(consume, prepare)\n",
    "print(mp)"
   ]
  },
  {
   "cell_type": "markdown",
   "id": "fc85712b-3c1f-47b2-a561-f7d86fe4cdad",
   "metadata": {},
   "source": [
    "In this case, we would have to make the missing sandwich for \"sandwiches on a plate\" on Day 3.\n",
    "\n",
    "And lastly, see what happens if we prepare too many sandwiches:"
   ]
  },
  {
   "cell_type": "code",
   "execution_count": 12,
   "id": "9f83f225-cd0f-4b30-ba87-ae3d365d7c6a",
   "metadata": {},
   "outputs": [
    {
     "name": "stdout",
     "output_type": "stream",
     "text": [
      "Unnamed meal plan\n",
      "\n",
      "Day 1\n",
      "CONSUME:\n",
      "- Cheese sandwich (servings: 1, 190 kcal)\n",
      "- Two sandwiches on a plate (servings: 1, 380 kcal)\n",
      "PREPARE:\n",
      "- Two sandwiches on a plate (servings: 1)\n",
      "- Cheese sandwich (servings: 5)\n",
      "\n",
      "Day 2\n",
      "CONSUME:\n",
      "- Cheese sandwich (servings: 2, 380 kcal)\n",
      "PREPARE:\n",
      "- Cheese sandwich (servings: 6)\n",
      "- Two sandwiches on a plate (servings: 3)\n",
      "\n",
      "Day 3\n",
      "CONSUME:\n",
      "- Two sandwiches on a plate (servings: 1, 380 kcal)\n",
      "PREPARE:\n",
      "\n",
      "Average daily energy: 444 kcal\n",
      "\n",
      "EXCEDENT:\n",
      "2 Two sandwiches on a plate\n",
      "\n"
     ]
    }
   ],
   "source": [
    "prepare = [{\"sandwich\": 2},{\"two-sandwiches-plate\": 3},{}]\n",
    "mp = ky.MealPlan(consume, prepare)\n",
    "print(mp)"
   ]
  },
  {
   "cell_type": "markdown",
   "id": "bc592560-ed99-489f-98b5-4709c2222fec",
   "metadata": {},
   "source": [
    "In this case, we have an excedent, and Kytchen is able to identify it and let us know.\n",
    "\n",
    "Once you have a meal plan, Kytchen can generate a shopping list for you. This shopping list specifies the ingredients and amounts needed to prepare all the meals contained in the meal plan."
   ]
  },
  {
   "cell_type": "code",
   "execution_count": 13,
   "id": "89b26fda-6b5d-4f1b-80e6-f0aa21d3bdb1",
   "metadata": {},
   "outputs": [
    {
     "name": "stdout",
     "output_type": "stream",
     "text": [
      "Slice of bread: 10 u\n",
      "Cheese: 50 g\n",
      "\n"
     ]
    }
   ],
   "source": [
    "print(mp.shopping_list())"
   ]
  },
  {
   "cell_type": "markdown",
   "id": "9b2768b7-0520-467c-a0f6-84ec65bfd2cc",
   "metadata": {},
   "source": [
    "Meal plans can be saved as JSON files with the `save` method, specifiying a `path`. The meal plan will be saved in `mealplans/{path}.json` and it will be added to the `mealplans` dictionary, with `path` as key. The function `load_mealplans` loads all the meal plans in the `mealplans` folder and adds them to the dictionary; this function is called automatically when Kytchen is started."
   ]
  },
  {
   "cell_type": "code",
   "execution_count": 14,
   "id": "cd8fcb9e-ac44-49c9-ac4c-50e749ad3954",
   "metadata": {},
   "outputs": [
    {
     "name": "stdout",
     "output_type": "stream",
     "text": [
      "{'mealplan': Unnamed meal plan}\n"
     ]
    }
   ],
   "source": [
    "mp.save(\"mealplan\")\n",
    "print(ky.mealplans)"
   ]
  },
  {
   "cell_type": "code",
   "execution_count": null,
   "id": "49bf41f5-6f69-404e-8f7a-de553d7b49c8",
   "metadata": {},
   "outputs": [],
   "source": []
  }
 ],
 "metadata": {
  "kernelspec": {
   "display_name": "Python 3 (ipykernel)",
   "language": "python",
   "name": "python3"
  },
  "language_info": {
   "codemirror_mode": {
    "name": "ipython",
    "version": 3
   },
   "file_extension": ".py",
   "mimetype": "text/x-python",
   "name": "python",
   "nbconvert_exporter": "python",
   "pygments_lexer": "ipython3",
   "version": "3.11.6"
  }
 },
 "nbformat": 4,
 "nbformat_minor": 5
}
